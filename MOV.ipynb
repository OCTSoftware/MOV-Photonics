{
  "nbformat": 4,
  "nbformat_minor": 0,
  "metadata": {
    "kernelspec": {
      "display_name": "Python 3",
      "language": "python",
      "name": "python3"
    },
    "language_info": {
      "codemirror_mode": {
        "name": "ipython",
        "version": 3
      },
      "file_extension": ".py",
      "mimetype": "text/x-python",
      "name": "python",
      "nbconvert_exporter": "python",
      "pygments_lexer": "ipython3",
      "version": "3.6.6"
    },
    "colab": {
      "provenance": []
    }
  },
  "cells": [
    {
      "cell_type": "markdown",
      "metadata": {
        "id": "yx06_xU7QSlD"
      },
      "source": [
        "# Mikroskopisch Optische Verfahren: Programmierübung\n",
        "\n",
        "---\n",
        "\n"
      ]
    },
    {
      "cell_type": "markdown",
      "metadata": {
        "id": "S6gtXtppQSlG"
      },
      "source": [
        "**Note**: Please insert the names of all participating students:\n",
        "1.\n",
        "2.\n",
        "3."
      ]
    },
    {
      "cell_type": "markdown",
      "metadata": {
        "id": "kwBHileYQSlL"
      },
      "source": [
        "## Preamble\n",
        "The following code downloads and imports all necessary files and modules into the virtual machine of Colab. Please make sure to execute it before solving this exercise. This mandatory preamble will be found on all exercise sheets."
      ]
    },
    {
      "cell_type": "code",
      "metadata": {
        "id": "ot9sj4P3QSlO"
      },
      "source": [
        "import sys, os\n",
        "\n",
        "import imageio.v3 as iio\n",
        "from matplotlib import pyplot as plt\n",
        "import numpy as np\n",
        "\n",
        "if 'google.colab' in sys.modules:\n",
        "  if os.getcwd() == '/content':\n",
        "    !git clone 'https://github.com/OCTSoftware/MOV-Photonics.git'\n",
        "    os.chdir('MOV-Photonics')\n",
        "\n",
        "\n",
        "def horizontal_subplots_1x2(img1, img2, title):\n",
        "  fig, (ax1, ax2) = plt.subplots(1, 2, figsize=(10, 5))\n",
        "  fig.suptitle(title)\n",
        "  ax1.imshow(img1, cmap='gray')\n",
        "  ax2.imshow(img2, cmap='gray')\n",
        "  plt.show()\n",
        "\n",
        "\n",
        "def horizontal_subplots_1x3(img1, img2, img3, title):\n",
        "  fig, (ax1, ax2, ax3) = plt.subplots(1, 3, figsize=(15, 5))\n",
        "  fig.suptitle(title)\n",
        "  ax1.imshow(img1, cmap='gray')\n",
        "  ax2.imshow(img2, cmap='gray')\n",
        "  ax3.imshow(img3, cmap='gray')\n",
        "  plt.show()"
      ],
      "execution_count": null,
      "outputs": []
    },
    {
      "cell_type": "markdown",
      "metadata": {
        "id": "sBsDtcs0QSlb"
      },
      "source": [
        "## Exercise 1: Intensity Images\n",
        "---"
      ]
    },
    {
      "cell_type": "markdown",
      "source": [
        "**Tasks**:\n",
        "- Display the logarithm of the absolut values of the discrete fourier transformation of `img`\n",
        "\n",
        "**Programming Hints**:\n",
        "- Useful functions for this exercise are: [`np.fft.fft2`](https://numpy.org/doc/stable/reference/generated/numpy.fft.fft2.html), [`np.fft.fftshift`](https://numpy.org/doc/stable/reference/generated/numpy.fft.fftshift.html#), [`np.abs`](https://numpy.org/doc/stable/reference/generated/numpy.absolute.html), and [`np.log10`](https://numpy.org/doc/stable/reference/generated/numpy.log10.html)\n",
        "\n",
        "**Questions**:\n",
        "- Why do we need to use the absolute values to display data after fourier transformations?\n",
        "- Why do we use the logartihm to display the spectral data?\n",
        "\n",
        "**Answers**:\n",
        "-\n",
        "-"
      ],
      "metadata": {
        "id": "4df2we3jBT49"
      }
    },
    {
      "cell_type": "code",
      "metadata": {
        "id": "9uA8YSXQQSld"
      },
      "source": [
        "# Our image to work with\n",
        "img = iio.imread('cameraman.tif')\n",
        "\n",
        "\n",
        "def get_fft(img):\n",
        "  # TODO: Get a fourier transformed image\n",
        "  fft_img = None\n",
        "\n",
        "  return fft_img\n",
        "\n",
        "\n",
        "def get_abs(img):\n",
        "  # TODO: Get absolute value of an image\n",
        "  abs_img = None\n",
        "\n",
        "  return abs_img\n",
        "\n",
        "\n",
        "def get_log_abs(img):\n",
        "  # TODO: Get logarithm and absolute values of an input image\n",
        "  log_abs_img = None\n",
        "\n",
        "  return log_abs_img\n",
        "\n",
        "\n",
        "# TODO: Get fourier transformed image\n",
        "fft_img = None\n",
        "\n",
        "# TODO: Get logarithm of absolute values of the fourier transformed image\n",
        "display_fft_img = None\n",
        "\n",
        "horizontal_subplots_1x2(img, display_fft_img, \"Input image and its spectrum\")"
      ],
      "execution_count": null,
      "outputs": []
    },
    {
      "cell_type": "markdown",
      "source": [
        "**Tasks**:\n",
        "- Implement a low pass filter kernel in fourier space, which removes all signals outside of a centered circle with a given `filter_radius`\n",
        "- Implement a high pass filter kernel based on your low pass filter implementation\n",
        "- Implement a function to apply a given kernel to an image\n",
        "- Test your implementation several times on `img`, varying the `filter_radius`.\n",
        "\n",
        "**Programming Hints**:\n",
        "- Useful functions for this exercise are: $x^y$ = x ** y, `get_fft`, [`np.fft.ifft2`](https://numpy.org/doc/stable/reference/generated/numpy.fft.ifft2.html#), and [`np.fft.ifftshift`](https://numpy.org/doc/stable/reference/generated/numpy.fft.ifftshift.html#)\n",
        "\n",
        "- We also used: [`np.linspace`](https://numpy.org/doc/stable/reference/generated/numpy.linspace.html), [`np.shape`](https://numpy.org/doc/stable/reference/generated/numpy.shape.html), and [`np.meshgrid`](https://numpy.org/doc/stable/reference/generated/numpy.meshgrid.html)\n",
        "\n",
        "**Questions**:\n",
        "- What do you observe for different values of `filter_radius`, e.g. 10 % and 100 %?\n",
        "\n",
        "**Answers**:\n",
        "-"
      ],
      "metadata": {
        "id": "EDSfUQf0CfLe"
      }
    },
    {
      "cell_type": "code",
      "source": [
        "def get_filter(img, radius, plot_grids_and_filter=False):\n",
        "  x = np.linspace(-1, 1, np.shape(img)[1])\n",
        "  y = np.linspace(-1, 1, np.shape(img)[0])\n",
        "  xv, yv = np.meshgrid(x, y)\n",
        "\n",
        "  # TODO: Implement low pass filter\n",
        "  lp_filter = None\n",
        "\n",
        "  # TODO: Implement high pass filter\n",
        "  hp_filter = None\n",
        "\n",
        "  if plot_grids_and_filter:\n",
        "    horizontal_subplots_1x2(xv, yv, \"Image sized arrays with values according to relative 1D distances to the center\")\n",
        "    horizontal_subplots_1x2(lp_filter, hp_filter, \"Spectral low- and highpass filter\")\n",
        "\n",
        "  return [lp_filter, hp_filter]\n",
        "\n",
        "\n",
        "def filter_img(fft_img, filter, non_fourier_img=True):\n",
        "  # TODO: Apply filter\n",
        "  filtered_fft_img = None\n",
        "\n",
        "  # TODO: Get image from spectral data\n",
        "  filtered_img = None\n",
        "\n",
        "  display_filtered_fft_img = get_log_abs(filtered_fft_img)\n",
        "  display_filtered_img = get_abs(filtered_img)\n",
        "\n",
        "  return display_filtered_fft_img, filtered_img, display_filtered_img\n",
        "\n",
        "\n",
        "# TODO: Set filter_radius\n",
        "filter_radius = None\n",
        "\n",
        "lp_hp_filter = get_filter(img, filter_radius, plot_grids_and_filter=True)\n",
        "for filter in lp_hp_filter:\n",
        "  display_filtered_fft_img, _, display_filtered_img = filter_img(fft_img, filter)\n",
        "  horizontal_subplots_1x2(display_filtered_fft_img, display_filtered_img, \"Filtered spectrum and image\")"
      ],
      "metadata": {
        "id": "-cG3i-hY-pzV"
      },
      "execution_count": null,
      "outputs": []
    },
    {
      "cell_type": "markdown",
      "source": [
        "**Tasks**:\n",
        "- Get a complex image `complex_img` by assigning each pixel of `img` a random phase value out of a uniform distribution.\n",
        "- Repeat the filtering for the `complex_img`.\n",
        "\n",
        "**Programming Hints**:\n",
        "- $cos(α) + i * sin(α) = exp(i * α)$\n",
        "- Useful functions for this exercise are: [`np.random.rand`](https://numpy.org/doc/stable/reference/random/generated/numpy.random.rand.html), [`np.shape`](https://numpy.org/doc/stable/reference/generated/numpy.shape.html), and [`np.exp`](https://numpy.org/doc/stable/reference/generated/numpy.exp.html)\n",
        "- Useful constants are: [`np.pi`](https://numpy.org/doc/stable/reference/constants.html#numpy.pi) as π and `1j` as imaginary unit\n",
        "\n",
        "**Questions**:\n",
        "- What do you observe for the complex image `complex_img` and spectrum compared to the real valued `img` from previously?\n",
        "- What do you observe regarding the effects of the filters?\n",
        "\n",
        "**Answers**:\n",
        "-\n",
        "-"
      ],
      "metadata": {
        "id": "qiEn5VrrEi8V"
      }
    },
    {
      "cell_type": "code",
      "source": [
        "# TODO: Get random uniformely distributed phase values\n",
        "phase = None\n",
        "\n",
        "# TODO: Transform real image to complex image with random phase values\n",
        "complex_img = None\n",
        "\n",
        "complex_fft_img = get_fft(complex_img)\n",
        "horizontal_subplots_1x2(get_abs(complex_img), get_log_abs(complex_fft_img), \"Complex image and its spectrum\")\n",
        "\n",
        "# TODO: Set filter_radius\n",
        "filter_radius = None\n",
        "\n",
        "lp_hp_filter = get_filter(img, filter_radius)\n",
        "for filter in lp_hp_filter:\n",
        "  display_filtered_fft_img, _, display_filtered_img = filter_img(complex_fft_img, filter)\n",
        "  horizontal_subplots_1x2(display_filtered_fft_img, display_filtered_img, \"Filtered spectrum and image\")"
      ],
      "metadata": {
        "id": "RFOEnAlu-Agc"
      },
      "execution_count": null,
      "outputs": []
    },
    {
      "cell_type": "markdown",
      "source": [
        "## Exercise 2: Phase images\n",
        "---"
      ],
      "metadata": {
        "id": "2c4JCMr0MnP9"
      }
    },
    {
      "cell_type": "markdown",
      "source": [
        "**Tasks**:\n",
        "- Get a scaled image `scaled_img`by scaling the pixel values of the image `img` to $[0, 1]$.\n",
        "- Get a phase image `phase_img` with small amplitudes according to:\n",
        "\n",
        "$$\n",
        "\\begin{align}\n",
        "    phase\\_img = exp(i*0.1*π*scaled\\_img)\n",
        "\\end{align}\n",
        "$$\n",
        "\n",
        "- Implement the function to the get the angle of an image.\n",
        "- Repeat the filtering for the `phase_img`.\n",
        "\n",
        "**Programming Hints**:\n",
        "- Useful functions for this exercise are: [`np.amin`](https://numpy.org/doc/stable/reference/generated/numpy.amin.html#), [`np.amax`](https://numpy.org/doc/stable/reference/generated/numpy.amax.html), [`np.exp`](https://numpy.org/doc/stable/reference/generated/numpy.exp.html), and [`np.angle`](https://numpy.org/doc/stable/reference/generated/numpy.angle.html)\n",
        "- Useful constants are: [`np.pi`](https://numpy.org/doc/stable/reference/constants.html#numpy.pi) as π and `1j` as imaginary unit\n",
        "\n",
        "**Questions**:\n",
        "- What do you observe for the phase image `phase_img` and spectrum compared to the real valued `img` from previously?\n",
        "- What do you observe regarding the effects of the filters and what do you observe when displaying the angle of the filtered image `filtered_img`?\n",
        "\n",
        "**Answers**:\n",
        "-\n",
        "-"
      ],
      "metadata": {
        "id": "8fCa_XzgMu3F"
      }
    },
    {
      "cell_type": "code",
      "source": [
        "def rescale_0_1(img):\n",
        "  # TODO: Scale to [0, 1]\n",
        "  scaled_img = None\n",
        "\n",
        "  return scaled_img\n",
        "\n",
        "\n",
        "# TODO: Convert to phase image\n",
        "phase_img = None\n",
        "\n",
        "phase_fft_img = get_fft(phase_img)\n",
        "# Rounding due to numerical errors.\n",
        "horizontal_subplots_1x2(np.around(get_abs(phase_img), 5), get_log_abs(phase_fft_img), \"Phase image and its spectrum\")\n",
        "\n",
        "# TODO: Set filter_radius\n",
        "filter_radius = None\n",
        "\n",
        "lp_hp_filter = get_filter(phase_img, filter_radius)\n",
        "for filter in lp_hp_filter:\n",
        "  display_filtered_fft_img, filtered_img, display_filtered_img = filter_img(phase_fft_img, filter)\n",
        "\n",
        "  # TODO: Get the angle of the filtered_img\n",
        "  angle_img = None\n",
        "\n",
        "  horizontal_subplots_1x3(display_filtered_fft_img, angle_img, display_filtered_img, \"Filtered spectrum, angle of spectrum, and image\")"
      ],
      "metadata": {
        "id": "qxcRVNtQMv6X"
      },
      "execution_count": null,
      "outputs": []
    },
    {
      "cell_type": "markdown",
      "source": [
        "**Tasks**:\n",
        "- Apply a knife edge filter to the `phase_img` by removing half of the spectrum.\n",
        "\n",
        "**Programming Hints**:\n",
        "- Useful functions for this exercise are: [`np.amin`](https://numpy.org/doc/stable/reference/generated/numpy.amin.html#), [`np.amax`](https://numpy.org/doc/stable/reference/generated/numpy.amax.html), and [`np.exp`](https://numpy.org/doc/stable/reference/generated/numpy.exp.html)\n",
        "- Useful constants are: [`np.pi`](https://numpy.org/doc/stable/reference/constants.html#numpy.pi) as π and `1j` as imaginary unit\n",
        "- We also used: [`np.linspace`](https://numpy.org/doc/stable/reference/generated/numpy.linspace.html), [`np.shape`](https://numpy.org/doc/stable/reference/generated/numpy.shape.html), and [`np.meshgrid`](https://numpy.org/doc/stable/reference/generated/numpy.meshgrid.html)\n",
        "\n",
        "**Questions**:\n",
        "- What do you observe when applying the filter in different axis directions?\n",
        "- What do you observe when applying the filter to the positive side of an axis vs to the negative side?\n",
        "\n",
        "**Answers**:\n",
        "-\n",
        "-"
      ],
      "metadata": {
        "id": "f_s-yFBU7BDi"
      }
    },
    {
      "cell_type": "code",
      "source": [
        "x = np.linspace(-1, 1, np.shape(img)[1])\n",
        "y = np.linspace(-1, 1, np.shape(img)[0])\n",
        "xv, yv = np.meshgrid(x, y)\n",
        "\n",
        "# TODO: Implement X-axis knife edge, removing the negative axis part\n",
        "x_neg_filter = None\n",
        "\n",
        "# TODO: Implement X-axis knife edge, removing the positive axis part\n",
        "x_pos_filter = None\n",
        "\n",
        "# TODO: Implement Y-axis knife edge, removing the negative axis part\n",
        "y_neg_filter = None\n",
        "\n",
        "# TODO: Implement Y-axis knife edge, removing the positive axis part\n",
        "y_pos_filter = None\n",
        "\n",
        "horizontal_subplots_1x2(x_neg_filter, x_pos_filter, \"Knife edge filter for X-axis\")\n",
        "horizontal_subplots_1x2(y_neg_filter, y_pos_filter, \"Knife edge filter for Y-axis\")\n",
        "\n",
        "knife_edge_filter = [x_neg_filter, x_pos_filter, y_neg_filter, y_pos_filter]\n",
        "for filter in knife_edge_filter:\n",
        "  display_filtered_fft_img, _, display_filtered_img = filter_img(phase_fft_img, filter)\n",
        "  horizontal_subplots_1x2(display_filtered_fft_img, display_filtered_img, \"Filtered spectrum and image\")"
      ],
      "metadata": {
        "id": "ju01uQya8M6I"
      },
      "execution_count": null,
      "outputs": []
    },
    {
      "cell_type": "markdown",
      "source": [
        "**Tasks**:\n",
        "- Apply a phase shift to only the DC part of the spectrum.\n",
        "\n",
        "**Programming Hints**:\n",
        "- The zero frequency (DC part) lies at the rounded half of the given dimension\n",
        "- Phase: $cos(α) + i * sin(α) = exp(i * α)$\n",
        "- Useful functions for this exercise are: [`np.shape`](https://numpy.org/doc/stable/reference/generated/numpy.shape.html), [`np.zeros`](https://numpy.org/doc/stable/reference/generated/numpy.zeros.html), [`round`](https://docs.python.org/3/library/functions.html#round), and [`np.exp`](https://numpy.org/doc/stable/reference/generated/numpy.exp.html).\n",
        "- Useful constants are: [`np.pi`](https://numpy.org/doc/stable/reference/constants.html#numpy.pi) as π and `1j` as imaginary unit\n",
        "\n",
        "**Questions**:\n",
        "- What happens for different phase shift values?\n",
        "\n",
        "**Answers**:\n",
        "-"
      ],
      "metadata": {
        "id": "0LfJtKREBVpU"
      }
    },
    {
      "cell_type": "code",
      "source": [
        "# TODO: Get height and width of phase_fft_img\n",
        "height, width = None\n",
        "\n",
        "# TODO: Create mask with only zeros\n",
        "dc_mask = None\n",
        "\n",
        "# TODO: Get the height and width position of the DC part\n",
        "dc_idx_height = None\n",
        "dc_idx_width = None\n",
        "\n",
        "# TODO: Set the pixel at the DCs position to 1\n",
        "dc_mask = None\n",
        "\n",
        "# TODO: Set phase shift\n",
        "phase_shift = None\n",
        "\n",
        "# TODO: Add phase shift to the mask\n",
        "dc_filter = None\n",
        "\n",
        "display_filtered_fft_img, _, display_filtered_img = filter_img(phase_fft_img, dc_filter)\n",
        "horizontal_subplots_1x2(display_filtered_fft_img, display_filtered_img, \"Filtered spectrum and image\")"
      ],
      "metadata": {
        "id": "kcOHDw72Bszy"
      },
      "execution_count": null,
      "outputs": []
    },
    {
      "cell_type": "markdown",
      "source": [
        "## Exercise 3: Holographic images\n",
        "---"
      ],
      "metadata": {
        "id": "czn82Av_0cmj"
      }
    },
    {
      "cell_type": "markdown",
      "source": [
        "**Tasks**:\n",
        "- Set image acquisition variables. It was acquired with the following parameters:\n",
        "  - Pixel-spacing on the camera: $Δx = Δy = 10 μm$\n",
        "  - Wavelength: $λ = 600 nm$\n",
        "  - Distanz of object to camera: $< 1 m$\n",
        "  - Plane referencewave\n",
        "- Transform image acquisition variables to k-space.\n",
        "- Find the part of the spectrum containing the image.\n",
        "\n",
        "**Programming Hints**:\n",
        "- $λ = \\frac{2π}{k}$\n",
        "- Useful function are: [`np.shape`](https://numpy.org/doc/stable/reference/generated/numpy.shape.html)\n",
        "- Useful constants are: [`np.pi`](https://numpy.org/doc/stable/reference/constants.html#numpy.pi) as π\n",
        "\n",
        "**Questions**:\n",
        "- Why do we need to convert our acquisition variables to k-space?\n",
        "- What are the bright areas in the spectrum ?\n",
        "\n",
        "**Answers**:\n",
        "-\n",
        "-"
      ],
      "metadata": {
        "id": "thlZSx_30dJV"
      }
    },
    {
      "cell_type": "code",
      "source": [
        "# The hologram to work with\n",
        "holo_img = iio.imread('hologram.png')\n",
        "\n",
        "holo_fft_img = get_fft(holo_img)\n",
        "display_fft_img = get_log_abs(holo_fft_img)\n",
        "\n",
        "horizontal_subplots_1x2(holo_img, display_fft_img, \"Input image and its spectrum\")\n",
        "\n",
        "\n",
        "def lambda_to_k(lambda_obj):\n",
        "  # TODO: Lambda to k conversion\n",
        "  k = None\n",
        "\n",
        "  return k\n",
        "\n",
        "\n",
        "# TODO: Set pixel spacing\n",
        "dx = None\n",
        "dy = None\n",
        "dkx = None\n",
        "dky = None\n",
        "\n",
        "# TODO: Set wavelength\n",
        "wl = None\n",
        "k = lambda_to_k(wl)\n",
        "\n",
        "# TODO: Set maximum object distance\n",
        "max_dist = None"
      ],
      "metadata": {
        "id": "LANC_bcG0de8"
      },
      "execution_count": null,
      "outputs": []
    },
    {
      "cell_type": "markdown",
      "source": [
        "**Tasks**:\n",
        "- Cut out the parts of the spectrum containing the first orders of the image\n",
        "\n",
        "**Programming Hints**:\n",
        "- To index an area of an array use `example_arr[start_row:end_row, start_col:end_col]`\n",
        "\n",
        "**Questions**:\n",
        "- Why do we need to cut out the first orders?\n",
        "\n",
        "**Answers**:\n",
        "-"
      ],
      "metadata": {
        "id": "z7lcWbfsa2H0"
      }
    },
    {
      "cell_type": "code",
      "source": [
        "# TODO: Cut both first order objects from the spectrum\n",
        "holo_first_order_1 = None\n",
        "holo_first_order_2 = None\n",
        "\n",
        "horizontal_subplots_1x2(get_log_abs(holo_first_order_1), get_log_abs(holo_first_order_2), \"First order objects\")"
      ],
      "metadata": {
        "id": "meDMK09Ga2Ue"
      },
      "execution_count": null,
      "outputs": []
    },
    {
      "cell_type": "markdown",
      "source": [
        "\n",
        "**Tasks**:\n",
        "- Reconstruct the first order objects.\n",
        "\n",
        "**Programming Hints**:\n",
        "- Useful function are: [`np.shape`](https://numpy.org/doc/stable/reference/generated/numpy.shape.html), [`np.exp`](https://numpy.org/doc/stable/reference/generated/numpy.exp.html), and [`np.sqrt`](https://numpy.org/doc/stable/reference/generated/numpy.sqrt.html)\n",
        "- Useful constants are: [`np.pi`](https://numpy.org/doc/stable/reference/constants.html#numpy.pi) as π and `1j` as imaginary unit\n",
        "\n",
        "**Questions**:\n",
        "- What is the imaged object?\n",
        "- At which reconstruction distance is the image reconstructed well?\n",
        "- Which imaging geometry must've been used?\n",
        "- What is the difference between the two first orders?\n",
        "\n",
        "**Answers**:\n",
        "-\n",
        "-\n",
        "-\n",
        "-"
      ],
      "metadata": {
        "id": "HbTO3QjQ_0f5"
      }
    },
    {
      "cell_type": "code",
      "source": [
        "def get_prop_kernel(fft_img, z, k, dkx, dky):\n",
        "  # TODO: get height and width of the fft_img\n",
        "  height, width = None\n",
        "\n",
        "  x = np.linspace(-1, 1, width)\n",
        "  y = np.linspace(-1, 1, height)\n",
        "\n",
        "  # TODO: Get kx and ky vectors based on the relative x and y vectors\n",
        "  kx = None\n",
        "  ky = None\n",
        "\n",
        "  kxv, kyv = np.meshgrid(kx, ky)\n",
        "\n",
        "  # TODO: Get propagation kernel\n",
        "  prop_kernel = None\n",
        "\n",
        "  return prop_kernel\n",
        "\n",
        "\n",
        "step = .25\n",
        "for z in np.arange(- max_dist, max_dist + step, step):\n",
        "  z = np.around(z, 2)\n",
        "  prop_kernel = get_prop_kernel(holo_first_order_1, z, k, dkx, dky)\n",
        "  display_filtered_fft_img, _, display_filtered_img_1 = filter_img(holo_first_order_1, prop_kernel)\n",
        "  __, _, display_filtered_img_2 = filter_img(holo_first_order_2, prop_kernel)\n",
        "  horizontal_subplots_1x3(display_filtered_fft_img, display_filtered_img_1, display_filtered_img_2, f\"Filtered spectrum and images of the different first orders at {z} m\")"
      ],
      "metadata": {
        "id": "iX9OqREFAyJB"
      },
      "execution_count": null,
      "outputs": []
    }
  ]
}