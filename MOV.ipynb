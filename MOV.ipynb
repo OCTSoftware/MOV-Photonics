{
  "nbformat": 4,
  "nbformat_minor": 0,
  "metadata": {
    "kernelspec": {
      "display_name": "Python 3",
      "language": "python",
      "name": "python3"
    },
    "language_info": {
      "codemirror_mode": {
        "name": "ipython",
        "version": 3
      },
      "file_extension": ".py",
      "mimetype": "text/x-python",
      "name": "python",
      "nbconvert_exporter": "python",
      "pygments_lexer": "ipython3",
      "version": "3.6.6"
    },
    "colab": {
      "provenance": []
    }
  },
  "cells": [
    {
      "cell_type": "markdown",
      "metadata": {
        "id": "yx06_xU7QSlD"
      },
      "source": [
        "# Mikroskopisch Optische Verfahren: Programmierübung\n",
        "\n",
        "---\n",
        "\n"
      ]
    },
    {
      "cell_type": "markdown",
      "metadata": {
        "id": "kwBHileYQSlL"
      },
      "source": [
        "## Preamble\n",
        "The following code downloads and imports all necessary files and modules into the virtual machine of Colab. Please make sure to execute it before solving this exercise. This mandatory preamble will be found on all exercise sheets."
      ]
    },
    {
      "cell_type": "code",
      "metadata": {
        "id": "ot9sj4P3QSlO",
        "colab": {
          "base_uri": "https://localhost:8080/"
        },
        "outputId": "9756b51d-5d26-4ac6-9c55-253a1676c8ca"
      },
      "source": [
        "import copy\n",
        "import os\n",
        "import random\n",
        "import sys\n",
        "\n",
        "import imageio.v3 as iio\n",
        "from matplotlib import pyplot as plt\n",
        "import numpy as np\n",
        "\n",
        "if 'google.colab' in sys.modules:\n",
        "  if os.getcwd() == '/content':\n",
        "    !git clone 'https://github.com/OCTSoftware/MOV-Photonics.git'\n",
        "    os.chdir('MOV-Photonics')\n",
        "\n",
        "\n",
        "def horizontal_subplots_1x2(img1, img2, title):\n",
        "  fig, (ax1, ax2) = plt.subplots(1, 2, figsize=(10, 5))\n",
        "  fig.suptitle(title)\n",
        "  ax1.imshow(img1, cmap='gray')\n",
        "  ax2.imshow(img2, cmap='gray')\n",
        "  plt.show()\n",
        "\n",
        "\n",
        "def horizontal_subplots_1x3(img1, img2, img3, title):\n",
        "  fig, (ax1, ax2, ax3) = plt.subplots(1, 3, figsize=(15, 5))\n",
        "  fig.suptitle(title)\n",
        "  ax1.imshow(img1, cmap='gray')\n",
        "  ax2.imshow(img2, cmap='gray')\n",
        "  ax3.imshow(img3, cmap='gray')\n",
        "  plt.show()"
      ],
      "execution_count": null,
      "outputs": [
        {
          "output_type": "stream",
          "name": "stdout",
          "text": [
            "Cloning into 'MOV-Photonics'...\n",
            "remote: Enumerating objects: 52, done.\u001b[K\n",
            "remote: Counting objects: 100% (52/52), done.\u001b[K\n",
            "remote: Compressing objects: 100% (51/51), done.\u001b[K\n",
            "remote: Total 52 (delta 20), reused 0 (delta 0), pack-reused 0\u001b[K\n",
            "Receiving objects: 100% (52/52), 15.27 MiB | 14.07 MiB/s, done.\n",
            "Resolving deltas: 100% (20/20), done.\n"
          ]
        }
      ]
    },
    {
      "cell_type": "markdown",
      "source": [
        "## Exercise 1: Introduction to Fourier Transformations\n",
        "---"
      ],
      "metadata": {
        "id": "t56DU7EQwshf"
      }
    },
    {
      "cell_type": "markdown",
      "source": [
        "### a) Digital Fourier Transformation & Scaling effects\n",
        "\n",
        "**Tasks**:\n",
        "- Create a binary 129x129 px image `square` of a centered square (background set to 0, square set to 1)\n",
        "- Display the absolute values of the Fourier Transformation `square_fft` and the fouriershifted Fourier Transformation `square_fftshifted` of the square.\n",
        "\n",
        "**Programming Hints**:\n",
        "- A square at position 20, 30 with halfwidth 5 would span rows 15 to 25 and columns 25 to 35. This would be indexed as such for an array called `square`: `square[15:25, 25:35]`\n",
        "- Useful functions for this exercise are: [`np.zeros`](https://numpy.org/doc/stable/reference/generated/numpy.zeros.html), [`np.abs`](https://numpy.org/doc/stable/reference/generated/numpy.absolute.html), [`np.fft.fft2`](https://numpy.org/doc/stable/reference/generated/numpy.fft.fft2.html), and [`np.fft.fftshift`](https://numpy.org/doc/stable/reference/generated/numpy.fft.fftshift.html#)\n",
        "- Useful syntax for this exercise is: integer division is `//`. E.g. $5 // 2 = 2$\n",
        "\n",
        "**Questions**:\n",
        "- Why do we need to use the absolute values to display data after fourier transformations?\n",
        "- What is the difference between the Fourier Transformation and the shifted version? Where is the zero-frequency respectively?\n",
        "- What do you observe when varying the size of the square?\n",
        "\n",
        "**Answers**:\n",
        "-"
      ],
      "metadata": {
        "id": "g5YQWzlRFbc_"
      }
    },
    {
      "cell_type": "code",
      "source": [
        "# TODO: Create binary image of a centered square\n",
        "square = None\n",
        "\n",
        "# TODO: Calculate absolute values of the fourier transformation of the square\n",
        "square_fft = None\n",
        "\n",
        "# TODO: Calcuate fouriershifted image of square_fft\n",
        "square_fftshift = None\n",
        "\n",
        "horizontal_subplots_1x3(square, square_fft, square_fftshift, \"Square, its spectrum, and its shifted spectrum\")"
      ],
      "metadata": {
        "id": "Tojx6xEVGGGQ"
      },
      "execution_count": null,
      "outputs": []
    },
    {
      "cell_type": "markdown",
      "source": [
        "### b) Further shapes, impact of size & effects of pixelation\n",
        "\n",
        "**Tasks**:\n",
        "- Implement the function `get_fft_complex` to return the fouriershifted fouriertransfrom of an input array `img`.\n",
        "- Implement the function `get_fft_real` to return the absolute values of `get_fft_complex` of an input array `img`.\n",
        "- Implement the function `get_fft_rescaled` to return `get_fft_real` to the power of $2 * gamma$ of an input array `img`.\n",
        "- Create a binary 128x128 px image `slit` of a centered vertical slit and `circle` of a centered circle.\n",
        "- Get their absolute valued ffts `slit_fft_abs` of `slit` and `circle_fft_abs` of `circle` using `get_fft_real`.\n",
        "- Get their scaled ffts `slit_fft` of `slit` and `circle_fft` of `circle` using `get_fft_rescaled`.\n",
        "\n",
        "**Programming Hints**:\n",
        "- Useful functions for this exercise are: [`np.fft.fftshift`](https://numpy.org/doc/stable/reference/generated/numpy.fft.fftshift.html#), [`np.fft.fft2`](https://numpy.org/doc/stable/reference/generated/numpy.fft.fft2.html), [`np.abs`](https://numpy.org/doc/stable/reference/generated/numpy.absolute.html), `get_fft_complex`, `get_fft_real`, [`np.zeros`](https://numpy.org/doc/stable/reference/generated/numpy.zeros.html), `get_fft_rescaled`, [`np.linspace`](https://numpy.org/doc/stable/reference/generated/numpy.linspace.html), and [`np.meshgrid`](https://numpy.org/doc/stable/reference/generated/numpy.meshgrid.html)\n",
        "- Useful syntax for this exercise is: $x^y$ = `x ** y`\n",
        "- `1 < 2 -> True`\n",
        "\n",
        "**Questions**:\n",
        "- How are fourier transformation of the slit and circle different to the one of the square?\n",
        "- What do you observe for differnt sizes of the slit and circle?\n",
        "- Why is the exponential weighting helpful to display spectral data?\n",
        "- what do you observe when viewing the exponential spectrum of the circle and how do you explain this?\n",
        "\n",
        "**Answers**:\n",
        "-"
      ],
      "metadata": {
        "id": "jin-pERhH8W4"
      }
    },
    {
      "cell_type": "code",
      "source": [
        "def get_fft_complex(img):\n",
        "  # TODO: Get a fourier transformed and fouriershifted image\n",
        "  fft_img = None\n",
        "\n",
        "  return fft_img\n",
        "\n",
        "\n",
        "def get_fft_real(img):\n",
        "  # TODO: Get absolute values of a fourier transformation by get_fft_complex\n",
        "  fft_img = None\n",
        "\n",
        "  return fft_img\n",
        "\n",
        "\n",
        "def get_fft_rescaled(img, gamma=0.2):\n",
        "  # TODO: Get exponentially rescaled values of a fourier transformation provided by get_fft_real\n",
        "  fft_img = None\n",
        "\n",
        "  return fft_img\n",
        "\n",
        "# TODO: Create 128x128 image of a centered vertical slit\n",
        "slit = None\n",
        "\n",
        "slit_fft_abs = get_fft_real(slit)\n",
        "slit_fft = get_fft_rescaled(slit)\n",
        "\n",
        "horizontal_subplots_1x3(slit, slit_fft_abs, slit_fft, \"Slit and its spectrum in linear and exponential values\")\n",
        "\n",
        "# TODO: Create binary 128x128 image of a centered circle\n",
        "circle_radius = .1\n",
        "circle = None\n",
        "\n",
        "circle_fft_abs = get_fft_real(circle)\n",
        "circle_fft = get_fft_rescaled(circle)\n",
        "\n",
        "horizontal_subplots_1x3(circle, circle_fft_abs, circle_fft, \"Circle and its spectrum in linear and exponential values\")\n"
      ],
      "metadata": {
        "id": "rXqixUYnPm8B"
      },
      "execution_count": null,
      "outputs": []
    },
    {
      "cell_type": "markdown",
      "source": [
        "### c) Effects of size\n",
        "\n",
        "**Tasks**:\n",
        "- Implement the function `get_meshgrid` to retun a meshgrid of given `size_x` and `size_y` with values ranging from -1 to 1.\n",
        "- Implement the function `get_center_crop` to return the central crop of given size of an input array `img`.\n",
        "- Create a binary 1024x1024 px image `circle_2` of a centered circle with the same relative size as `circle`.\n",
        "- Get a central crop of `circle_2_fft_abs` and `circle_2_fft` using the function `get_center_crop`.\n",
        "- Get the logarithmic valued fft `circle_2_fft_log`.\n",
        "\n",
        "**Programming Hints**:\n",
        "- Useful functions for this exercise are: [`np.linspace`](https://numpy.org/doc/stable/reference/generated/numpy.linspace.html), [`np.meshgrid`](https://numpy.org/doc/stable/reference/generated/numpy.meshgrid.html), [`np.shape`](https://numpy.org/doc/stable/reference/generated/numpy.shape.html), `get_meshgrid`, `get_center_crop`, [`np.log10`](https://numpy.org/doc/stable/reference/generated/numpy.log10.html)\n",
        "\n",
        "\n",
        "\n",
        "**Questions**:\n",
        "- How is the fourier transformation of the high resolution circle different to the one of the low resolution one? How do you explain this?\n",
        "- How can you make the high resolution circles fft more similar to the low resolution ones?\n",
        "- Can you still spot numeric artifacts? If so where?\n",
        "\n",
        "**Answers**:\n",
        "-"
      ],
      "metadata": {
        "id": "KrCZuQRTSIWe"
      }
    },
    {
      "cell_type": "code",
      "source": [
        "def get_meshgrid(size_x, size_y):\n",
        "  # TODO: Get a meshgrid of size_x x size_y with values from -1 to 1\n",
        "  xv, yv = None, None\n",
        "\n",
        "  return xv, yv\n",
        "\n",
        "\n",
        "def get_center_crop(img, halfwidth):\n",
        "  # TODO: Implement cropping of input to a given area around the center\n",
        "  center_crop = None\n",
        "\n",
        "  return center_crop\n",
        "\n",
        "\n",
        "# TODO: Get 1024x1024 image of a centered circle with the same relative circle_radius as for the 128x128 image\n",
        "xv, yv = get_meshgrid(1024, 1024)\n",
        "circle_2 = None\n",
        "\n",
        "circle_2_fft_abs = get_fft_real(circle_2)\n",
        "circle_2_fft = get_fft_rescaled(circle_2)\n",
        "\n",
        "horizontal_subplots_1x3(circle_2, circle_2_fft_abs, circle_2_fft, \"High resolution circle, its spectrum, and its rescaled spectrum\")\n",
        "\n",
        "# TODO: Get central crop of circle_2_fft_abs\n",
        "circle_2_fft_abs_crop = None\n",
        "\n",
        "# TODO: Get central crop of circle_2_fft\n",
        "circle_2_fft_crop = None\n",
        "\n",
        "horizontal_subplots_1x3(circle_2, circle_2_fft_abs_crop, circle_2_fft_crop, \"High resolution circle, its spectrum, and its rescaled spectrum\")\n",
        "\n",
        "# TODO: Get logarithmic fft of circle_2\n",
        "circle_2_fft_log = None\n",
        "\n",
        "horizontal_subplots_1x2(circle_2, circle_2_fft_log, \"High resolution circle and its logarithmic spectrum\")\n"
      ],
      "metadata": {
        "id": "EHCTKTJGSIr7"
      },
      "execution_count": null,
      "outputs": []
    },
    {
      "cell_type": "markdown",
      "source": [
        "### d) Impact of movements\n",
        "\n",
        "**Tasks**:\n",
        "- Implement function `get_phase` to retrieve the phase of an input array `img`.\n",
        "- Get a centered gaussian `gauss` and its phase `gauss_phase`.\n",
        "- Get an offset gaussian `gauss_2` and its phase `gauss_2_phase`.\n",
        "- Calculate phase-difference between `gauss_phase` and `gauss_2_phase`.\n",
        "\n",
        "**Programming Hints**:\n",
        "- The phase is the angle of the complex values of the fft of an fftshifted input.\n",
        "- Gaussian: $e^{-(x^2 + y^2) / µ}$. $µ = 0.001$ is a good choice.\n",
        "- Useful functions for this exercise are: [`np.angle`](https://numpy.org/doc/stable/reference/generated/numpy.angle.html), `get_fft_comples`, [`np.fft.fftshift`](https://numpy.org/doc/stable/reference/generated/numpy.fft.fftshift.html#), `get_meshgrid`, and `get_phase`\n",
        "\n",
        "**Questions**:\n",
        "- What do you observe in the spectrum when moving the circle?\n",
        "- What do you observe in the phase when moving the circle or changing the size?\n",
        "- What do you observe in the spectral difference and phase difference?\n",
        "\n",
        "**Answers**:\n",
        "-"
      ],
      "metadata": {
        "id": "ZhKDTWfT99_h"
      }
    },
    {
      "cell_type": "code",
      "source": [
        "def get_phase(img):\n",
        "  # TODO: Implement phase retrievel from input array img\n",
        "  phase = None\n",
        "\n",
        "  return phase\n",
        "\n",
        "# TODO: Get centered gaussian on a 1024x1024 image\n",
        "xv, yv = get_meshgrid(1024, 1024)\n",
        "gauss = None\n",
        "\n",
        "gauss_fft = get_fft_rescaled(gauss)\n",
        "\n",
        "# TODO: Get phase of gauss\n",
        "gauss_phase = None\n",
        "\n",
        "horizontal_subplots_1x3(gauss, get_center_crop(gauss_fft, 64), get_center_crop(gauss_phase, 64), \"Gaussian, its spectrum, and its phase\")\n",
        "\n",
        "# TODO: Get offset gaussian on a 1024x1024 image\n",
        "xv, yv = get_meshgrid(1024, 1024)\n",
        "gauss_2 = None\n",
        "\n",
        "gauss_2_fft = get_fft_rescaled(gauss_2)\n",
        "\n",
        "# TODO: Get phase of gauss_2\n",
        "gauss_2_phase = None\n",
        "\n",
        "horizontal_subplots_1x3(gauss_2, get_center_crop(gauss_2_fft, 64), get_center_crop(gauss_2_phase, 64), \"Offset circle, its spectrum, and its phase\")\n",
        "\n",
        "# TODO: Get fft difference of the gaussians\n",
        "fft_diff = None\n",
        "\n",
        "# TODO: Get phase difference of the gaussians\n",
        "phase_diff = None\n",
        "\n",
        "horizontal_subplots_1x3(gauss, get_center_crop(fft_diff, 64), get_center_crop(phase_diff, 64), \"Circle, offset circle, and their phase difference\")\n"
      ],
      "metadata": {
        "id": "9D9WWjZdaOeR"
      },
      "execution_count": null,
      "outputs": []
    },
    {
      "cell_type": "markdown",
      "source": [
        "## Exercise 2: Multiple objects\n",
        "---"
      ],
      "metadata": {
        "id": "FKPHJyvMSfLd"
      }
    },
    {
      "cell_type": "markdown",
      "source": [
        "### a) Effects of distance, rotations and size\n",
        "\n",
        "**Tasks**:\n",
        "- Get an image `circles_2`, combining the centered circle `circle_2` with another circle of different position.\n",
        "- Get an image `circles_3`, combining the centered circle `circle_2` with two other circle of different position.\n",
        "- Get an image `circles_4`, combining four circles positioned like the four on a dice.\n",
        "\n",
        "**Programming Hints**:\n",
        "- You can use your previously created meshgrids `xv` and `yv`.\n",
        "\n",
        "**Questions**:\n",
        "- What do you observe in the spectrum when moving the 2nd circle closer or further away?\n",
        "- What do you observe in the spectrum when rotating the position of the 2nd circle?\n",
        "- What do you observe in the spectrum when changing the size of the 2nd circle?\n",
        "- What do you observe for the three circles? What happens in symmetrical positions?\n",
        "- What do you observe for four circles in symmetrical positions (like the four on a dice)? What happens when you vary the distance between pairs of circles?\n",
        "\n",
        "**Answers**:\n",
        "-"
      ],
      "metadata": {
        "id": "J6xwQePRTANK"
      }
    },
    {
      "cell_type": "code",
      "source": [
        "def get_circle(size_x, size_y, radius, offset_x=0.0, offset_y=0.0):\n",
        "  # TODO: Get a meshgrid of given size and create a circle based on given offsets and radius\n",
        "  circle = None\n",
        "\n",
        "  return circle\n",
        "\n",
        "\n",
        "# TODO: Get an image combining a central circle (circle_2) and another offset circle\n",
        "circles_2 = None\n",
        "\n",
        "circles_2_fft = get_center_crop(get_fft_rescaled(circles_2), 64)\n",
        "horizontal_subplots_1x2(circles_2, circles_2_fft, \"Input image and its spectrum\")\n",
        "\n",
        "# TODO: Get an image combining a central circle (circle_2) and two other offset circles\n",
        "circles_3 = None\n",
        "\n",
        "circles_3_fft = get_center_crop(get_fft_rescaled(circles_3), 64)\n",
        "horizontal_subplots_1x2(circles_3, circles_3_fft, \"Input image and its spectrum\")\n",
        "\n",
        "# TODO: Get an image combining four circles, positioned like the four on a dice\n",
        "circles_4 = None\n",
        "\n",
        "circles_4_fft = get_center_crop(get_fft_rescaled(circles_4), 64)\n",
        "horizontal_subplots_1x2(circles_4, circles_4_fft, \"Input image and its spectrum\")\n"
      ],
      "metadata": {
        "id": "hS3QgoxdVE8O"
      },
      "execution_count": null,
      "outputs": []
    },
    {
      "cell_type": "markdown",
      "source": [
        "### b) Effects of numerous symmetrical objects\n",
        "\n",
        "**Tasks**:\n",
        "- Load the images `circ-16.png`  and `circ-32.png` and assign them to `circles_16` and `circles_32` respectively.\n",
        "- Compute the ffts of `circles_16` and `circles_32`, `circles_16_fft` and `circles_32_fft`, and find a suitable center crop.\n",
        "- Get an evenly spaced out grid with circles `circle_grid`.\n",
        "\n",
        "**Programming Hints**:\n",
        "- Useful functions for this exercise are: [`iio.imread`](https://imageio.readthedocs.io/en/stable/_autosummary/imageio.v3.imread.html), `get_center_crop`, `get_fft_rescaled`, [`range`](https://docs.python.org/3/library/functions.html#func-range), and `get_circle`\n",
        "- Do note, that the stop number for `range` is **not** included in the range!\n",
        "\n",
        "**Questions**:\n",
        "- Can you infer from the spectra how many circles are in the input image? If so, how?\n",
        "- How can you explain the spectrum resulting from the gridded circles?\n",
        "\n",
        "**Answers**:\n",
        "-"
      ],
      "metadata": {
        "id": "jDnQJ1IsOFmH"
      }
    },
    {
      "cell_type": "code",
      "source": [
        "# TODO: Load image circ-16.png\n",
        "circles_16 = None\n",
        "\n",
        "# TODO: Get suitable center crop of rescaled fft of circles_16\n",
        "circles16_f_fft = None\n",
        "\n",
        "horizontal_subplots_1x2(circles_16, circles16_f_fft, \"Input image and its spectrum\")\n",
        "\n",
        "# TODO: Load image circ-32.png\n",
        "circles_32 = None\n",
        "\n",
        "# TODO: Get suitable center crop of rescaled fft of circles_32\n",
        "circles_32_fft = None\n",
        "\n",
        "horizontal_subplots_1x2(circles_32, circles_32_fft, \"Input image and its spectrum\")\n",
        "\n",
        "circle_grid = np.zeros((1024, 1024))\n",
        "# TODO: Get a grid of evenly spaced out circles\n",
        "\n",
        "circle_grid_fft = get_center_crop(get_fft_rescaled(circle_grid), 64)\n",
        "horizontal_subplots_1x2(circle_grid, circle_grid_fft, \"Input image and its spectrum\")\n"
      ],
      "metadata": {
        "id": "Q7yhJBnTeGh7"
      },
      "execution_count": null,
      "outputs": []
    },
    {
      "cell_type": "markdown",
      "source": [
        "### c) Random objects and random objects with symmetries\n",
        "\n",
        "**Tasks**:\n",
        "- Get a `nr_samples` randomly distributed circles ,of size `0.05`, in `rng_circles`. Ensure that circles don't overlap the image borders and that circles overlapping each other don't increase the intensity above 1.\n",
        "- Get an image `rng_circles_sym` by combining `rng_circles` with a shifted copy of itself, thus creating symmetries in the random pattern.\n",
        "\n",
        "**Programming Hints**:\n",
        "- Useful functions for this exercise are: [`random.uniform`](https://docs.python.org/3/library/random.html#random.uniform), `get_circle`, and [`np.roll`](https://numpy.org/doc/stable/reference/generated/numpy.roll.html)\n",
        "\n",
        "**Questions**:\n",
        "- What do you see in the spectrum of the random distribution of circles?\n",
        "- What do you see in the spectrum of the random distribution with symmetry?\n",
        "\n",
        "**Answers**:\n",
        "-"
      ],
      "metadata": {
        "id": "zmtc7g0jZy6b"
      }
    },
    {
      "cell_type": "code",
      "source": [
        "nr_samples = 75\n",
        "\n",
        "rng_circles = np.zeros((1024, 1024))\n",
        "\n",
        "# TODO: Get a randomly distributed circles of size 0.05 that do not overlap image boundaries\n",
        "\n",
        "\n",
        "# TODO: Ensure overlapping circles don't increase the intensity above 1\n",
        "\n",
        "\n",
        "rng_circles_fft = get_center_crop(get_fft_rescaled(rng_circles), 64)\n",
        "horizontal_subplots_1x2(rng_circles, rng_circles_fft, \"Input image and its spectrum\")\n",
        "\n",
        "x_fixed_offset = 0.4 * np.shape(rng_circles)[1]\n",
        "y_fixed_offset= -0.1 * np.shape(rng_circles)[0]\n",
        "\n",
        "# TODO: Get symmetry within the random distribution adding it to a shift of itself\n",
        "rng_circles_sym = None\n",
        "\n",
        "# TODO: Ensure overlapping circles don't increase the intensity above 1\n",
        "\n",
        "\n",
        "rng_circles_sym_fft = get_center_crop(get_fft_rescaled(rng_circles_sym), 64)\n",
        "horizontal_subplots_1x2(rng_circles_sym, rng_circles_sym_fft, \"Input image and its spectrum\")\n"
      ],
      "metadata": {
        "id": "F-NYanF3ZzBp"
      },
      "execution_count": null,
      "outputs": []
    },
    {
      "cell_type": "markdown",
      "metadata": {
        "id": "sBsDtcs0QSlb"
      },
      "source": [
        "## Exercise 3: Filtering in fourier space\n",
        "---"
      ]
    },
    {
      "cell_type": "markdown",
      "source": [
        "### a) Low- & highpass filtering on simple object and photo\n",
        "\n",
        "**Tasks**:\n",
        "- Implement the function `get_lp_hp_filter` to return a fourier space low pass filter kernel `lp_filter`, which removes all signals outside of a centered circle with a given `radius`, and a high pass filter kernel `hp_filter` based on `lp_filter`, which does the opposite.\n",
        "- Implement the function `filter_fft` to apply a given kernel to an fft.\n",
        "- Get a 128x128 grating `grating` using your function `get_grating`.\n",
        "\n",
        "**Programming Hints**:\n",
        "- Useful functions for this exercise are: `get_circle`, [`np.shape`](https://numpy.org/doc/stable/reference/generated/numpy.shape.html), [`np.fft.ifft2`](https://numpy.org/doc/stable/reference/generated/numpy.fft.ifft2.html#), and [`np.fft.ifftshift`](https://numpy.org/doc/stable/reference/generated/numpy.fft.ifftshift.html#)\n",
        "\n",
        "**Questions**:\n",
        "- What do you observe for different values of `filter_radius`, e.g. 10 % and 100 %?\n",
        "\n",
        "**Answers**:\n",
        "-"
      ],
      "metadata": {
        "id": "EDSfUQf0CfLe"
      }
    },
    {
      "cell_type": "code",
      "source": [
        "def get_lp_hp_filter(img, radius):\n",
        "  # TODO: Implement low pass filter\n",
        "  lp_filter = None\n",
        "\n",
        "  # TODO: Implement high pass filter\n",
        "  hp_filter = None\n",
        "\n",
        "  return [lp_filter, hp_filter]\n",
        "\n",
        "\n",
        "def filter_fft(fft_img, filter, gamma=0.2):\n",
        "  # TODO: Apply filter\n",
        "  fft_img_filtered = None\n",
        "\n",
        "  # TODO: Get image from spectral data\n",
        "  img_filtered_complex = None\n",
        "\n",
        "  fft_img_filtered_rescaled = get_fft_rescaled(img_filtered_complex, gamma)\n",
        "  img_filtered_abs = np.abs(img_filtered_complex)\n",
        "\n",
        "  return fft_img_filtered_rescaled, img_filtered_complex, img_filtered_abs\n",
        "\n",
        "\n",
        "def get_grating(size_x, size_y, hw, sep):\n",
        "  grating = np.zeros((size_y, size_x))\n",
        "  spacing = 2 * (hw + sep)\n",
        "\n",
        "  for i in range(np.shape(grating)[1] // 2, np.shape(grating)[1] + hw, spacing):\n",
        "    if (i + hw) < np.shape(grating)[1]:\n",
        "      grating[:, i - hw:i + hw] = 1\n",
        "    else:\n",
        "      grating[:, i - hw:np.shape(grating)[1]] = 1\n",
        "\n",
        "  grating[:, :np.shape(grating)[1] // 2] = grating[:, np.shape(grating)[1]:np.shape(grating)[1] // 2 - 1: -1]\n",
        "\n",
        "  return grating\n",
        "\n",
        "\n",
        "# TODO: Set filter_radius\n",
        "filter_radius = 0.2\n",
        "\n",
        "halfwidth = 3\n",
        "grating_separation = 5\n",
        "\n",
        "# TODO: Get 128x128 grating\n",
        "grating = None\n",
        "\n",
        "camera_img = iio.imread(\"cameraman.tif\")\n",
        "\n",
        "for image in [grating, camera_img]:\n",
        "  image_fft = get_fft_complex(image)\n",
        "  horizontal_subplots_1x2(image, get_fft_rescaled(image, gamma=0.1), \"Image and its spectrum\")\n",
        "\n",
        "  lp_hp_filter = get_lp_hp_filter(image_fft, filter_radius)\n",
        "  for filter in lp_hp_filter:\n",
        "    image_fft_filtered, _, image_filtered = filter_fft(image_fft, filter, gamma=0.1)\n",
        "    horizontal_subplots_1x2(image_fft_filtered, image_filtered, \"Filtered spectrum and image\")\n"
      ],
      "metadata": {
        "id": "hN-pW-zc98x4"
      },
      "execution_count": null,
      "outputs": []
    },
    {
      "cell_type": "markdown",
      "source": [
        "### b) 1D Filtering on 2D object\n",
        "\n",
        "**Tasks**:\n",
        "- Implement the function `get_vert_horiz_filter` to return a fourier space filter kernel `vert_filter`, which removes all frequencies except those horizontal ones on the vertical zero frequency, and a filter kernel `horiz_filter` based on `vert_filter`, which does the same in the opposite direction.\n",
        "- Get a 128x128 2D grating based on `get_grating`.\n",
        "\n",
        "**Programming Hints**:\n",
        "- Useful functions for this exercise are: [`np.zeros`](https://numpy.org/doc/stable/reference/generated/numpy.zeros.html), [`np.shape`](https://numpy.org/doc/stable/reference/generated/numpy.shape.html), [`np.transpose`](https://numpy.org/doc/stable/reference/generated/numpy.transpose.html), and `get_grating`\n",
        "\n",
        "**Questions**:\n",
        "- What do you observe for the different filtering directions?\n",
        "\n",
        "**Answers**:\n",
        "-"
      ],
      "metadata": {
        "id": "kUHgeOKCi25L"
      }
    },
    {
      "cell_type": "code",
      "source": [
        "def get_vert_horiz_filter(img):\n",
        "  # TODO: Get a filter to remove all frequencies except those horizontal ones on the vertical 0 frequency\n",
        "  vert_filter = None\n",
        "\n",
        "  # TODO: Get a filter, based on vert_filter, to remove all frequencies except those vertical ones on the horizontal 0 frequency\n",
        "  horiz_filter = None\n",
        "\n",
        "  return [vert_filter, horiz_filter]\n",
        "\n",
        "\n",
        "halfwidth = 3\n",
        "grating_separation = 5\n",
        "\n",
        "# TODO: Get a 2D grating based on your get_grating function\n",
        "grating_1D = None\n",
        "\n",
        "grating_2d_fft = get_fft_complex(grating_2d)\n",
        "horizontal_subplots_1x2(grating_2d, get_fft_rescaled(grating_2d), \"Image and its spectrum\")\n",
        "\n",
        "v_h_filter = get_vert_horiz_filter(grating_2d)\n",
        "for filter in v_h_filter:\n",
        "  grating_2d_fft_filtered, _, grating_filtered = filter_fft(grating_2d_fft, filter)\n",
        "  horizontal_subplots_1x2(grating_2d_fft_filtered, grating_filtered, \"Filtered spectrum and image\")\n"
      ],
      "metadata": {
        "id": "gvBApFJ6i2E7"
      },
      "execution_count": null,
      "outputs": []
    },
    {
      "cell_type": "markdown",
      "source": [
        "### c) 1D Filtering comparison of x-y-grating and array of squares\n",
        "\n",
        "**Tasks**:\n",
        "- Get an array of squares `squares` using your previous `grating_2d`.\n",
        "\n",
        "**Programming Hints**:\n",
        "- Useful functions for this exercise are: [`np.abs`](https://numpy.org/doc/stable/reference/generated/numpy.absolute.html)\n",
        "\n",
        "**Questions**:\n",
        "- How are the spectrum of the `grating_2d`and the `squares` different? Why is that?\n",
        "- What do you observe for the different filtering directions? How is it compared to the `grating_2d`\n",
        "\n",
        "**Answers**:\n",
        "-"
      ],
      "metadata": {
        "id": "ldlsH8A81wA2"
      }
    },
    {
      "cell_type": "code",
      "source": [
        "# TODO: Invert your grating_2d to get an array of squares\n",
        "squares = None\n",
        "\n",
        "# TODO: Get absolute valued difference of the rescaled ffts of squares and the 2d grating\n",
        "fft_diff = None\n",
        "\n",
        "squares_fft = get_fft_complex(squares)\n",
        "horizontal_subplots_1x3(squares, get_fft_rescaled(squares), fft_diff, \"Image, its spectrum, and the spectral difference with the 2d grating\")\n",
        "\n",
        "v_h_filter = get_vert_horiz_filter(grating_2d)\n",
        "for filter in v_h_filter:\n",
        "  squares_fft_filtered, _, grating_filtered = filter_fft(squares_fft, filter)\n",
        "  horizontal_subplots_1x2(squares_fft_filtered, grating_filtered, \"Filtered spectrum and image\")"
      ],
      "metadata": {
        "id": "_iQM7OQH1wK2"
      },
      "execution_count": null,
      "outputs": []
    },
    {
      "cell_type": "markdown",
      "source": [
        "### d) Rasterized printed image\n",
        "\n",
        "**Tasks**:\n",
        "- Get a lowpass filter offset from the center.\n",
        "\n",
        "**Programming Hints**:\n",
        "- Useful functions for this exercise are: `get_circle` and [`np.shape`](https://numpy.org/doc/stable/reference/generated/numpy.shape.html)\n",
        "\n",
        "**Questions**:\n",
        "- What do you observe in the spectrum of the image?\n",
        "- What do you observe when filtering only a single offset dirac-peak with its surroundings?\n",
        "\n",
        "**Answers**:\n",
        "-"
      ],
      "metadata": {
        "id": "Co066jY88BXH"
      }
    },
    {
      "cell_type": "code",
      "source": [
        "# Our image to work with\n",
        "mask_img = iio.imread(\"mask.png\")\n",
        "\n",
        "mask_img_fft = get_fft_complex(mask_img)\n",
        "mask_img_fft_real = get_fft_rescaled(mask_img, gamma=0.01)\n",
        "horizontal_subplots_1x3(mask_img, mask_img_fft_real, get_center_crop(mask_img_fft_real, 256), \"Image, its spectrum, and a magnification\")\n",
        "\n",
        "# TODO: Get an offset lowpass filter\n",
        "filter_radius = 0.05\n",
        "offset_filter = None\n",
        "\n",
        "mask_img_fft_filtered, _, mask_img_filtered = filter_fft(mask_img_fft, offset_filter, gamma=0.1)\n",
        "horizontal_subplots_1x3(get_center_crop(mask_img_fft_filtered, 256), mask_img_filtered, get_center_crop(mask_img_fft_real * (1 - offset_filter), 256), \"Filtered spectrum, filtered image, and surrounding of filter\")"
      ],
      "metadata": {
        "id": "aX8kivNY8BnJ"
      },
      "execution_count": null,
      "outputs": []
    },
    {
      "cell_type": "markdown",
      "source": [
        "## Exercise 4: Phase images\n",
        "---"
      ],
      "metadata": {
        "id": "2c4JCMr0MnP9"
      }
    },
    {
      "cell_type": "markdown",
      "source": [
        "### a) Real image with random phase\n",
        "\n",
        "**Tasks**:\n",
        "- Get a complex image `camera_img_complex` by assigning each pixel of `camera_img` a random phase value out of a uniform distribution.\n",
        "\n",
        "**Programming Hints**:\n",
        "- $cos(α) + i * sin(α) = exp(i * α)$\n",
        "- Useful functions for this exercise are: [`np.random.rand`](https://numpy.org/doc/stable/reference/random/generated/numpy.random.rand.html), [`np.shape`](https://numpy.org/doc/stable/reference/generated/numpy.shape.html), and [`np.exp`](https://numpy.org/doc/stable/reference/generated/numpy.exp.html)\n",
        "- Useful constants are: [`np.pi`](https://numpy.org/doc/stable/reference/constants.html#numpy.pi) as π and `1j` as imaginary unit\n",
        "\n",
        "**Questions**:\n",
        "- What do you observe in the spectrum of the complex image? How does it compare to the real valued on?\n",
        "- What do you observe regarding the effects of the filters?\n",
        "\n",
        "**Answers**:\n",
        "-"
      ],
      "metadata": {
        "id": "qiEn5VrrEi8V"
      }
    },
    {
      "cell_type": "code",
      "source": [
        "def get_random_phases(img):\n",
        "  # TODO: Get random uniformely distributed phase values\n",
        "  phase = None\n",
        "\n",
        "  return phase\n",
        "\n",
        "\n",
        "camera_img_complex = copy.copy(camera_img)\n",
        "phase = get_random_phases(camera_img_complex)\n",
        "\n",
        "# TODO: Transform real image to complex image with random phase values\n",
        "camera_img_complex = None\n",
        "\n",
        "horizontal_subplots_1x2(np.abs(camera_img_complex), get_fft_rescaled(camera_img_complex), \"Complex image and its spectrum\")\n",
        "camera_img_complex_fft = get_fft_complex(camera_img_complex)\n",
        "\n",
        "# TODO: Set filter_radius\n",
        "filter_radius = 0.1\n",
        "\n",
        "lp_hp_filter = get_lp_hp_filter(camera_img_complex_fft, filter_radius)\n",
        "for filter in lp_hp_filter:\n",
        "  camera_img_fft_filtered, _, camera_img_filtered = filter_fft(camera_img_complex_fft, filter, gamma=0.1)\n",
        "  horizontal_subplots_1x2(camera_img_fft_filtered, camera_img_filtered, \"Filtered spectrum and image\")"
      ],
      "metadata": {
        "id": "RFOEnAlu-Agc"
      },
      "execution_count": null,
      "outputs": []
    },
    {
      "cell_type": "markdown",
      "source": [
        "### b) Low- & highpass on phase image\n",
        "\n",
        "**Tasks**:\n",
        "- Implement the function `rescale_0_1` to rescale the values of an array `img` to $[0, 1]$.\n",
        "- Convert `phase_img` into a pure phase image with small amplitudes according to:\n",
        "\n",
        "$$\n",
        "\\begin{align}\n",
        "    phase\\_img = exp(i*0.1*π*scaled\\_img)\n",
        "\\end{align}\n",
        "$$\n",
        "\n",
        "- Get the phase of the filtered image `phase_img_filtered_complex`.\n",
        "\n",
        "**Programming Hints**:\n",
        "- Useful functions for this exercise are: [`np.amin`](https://numpy.org/doc/stable/reference/generated/numpy.amin.html#), [`np.amax`](https://numpy.org/doc/stable/reference/generated/numpy.amax.html), [`np.exp`](https://numpy.org/doc/stable/reference/generated/numpy.exp.html), and [`np.angle`](https://numpy.org/doc/stable/reference/generated/numpy.angle.html)\n",
        "- Useful constants are: [`np.pi`](https://numpy.org/doc/stable/reference/constants.html#numpy.pi) as π and `1j` as imaginary unit\n",
        "\n",
        "**Questions**:\n",
        "- What do you observe for the phase image `phase_img` and spectrum compared to the real valued `img` from previously?\n",
        "- What do you observe regarding the effects of the filters and what do you observe when displaying the angle of the filtered image `filtered_img`?\n",
        "\n",
        "**Answers**:\n",
        "-"
      ],
      "metadata": {
        "id": "8fCa_XzgMu3F"
      }
    },
    {
      "cell_type": "code",
      "source": [
        "def rescale_0_1(img):\n",
        "  # TODO: Scale to [0, 1]\n",
        "  img = None\n",
        "\n",
        "  return img\n",
        "\n",
        "phase_img = copy.copy(camera_img)\n",
        "\n",
        "# TODO: Convert to phase image\n",
        "phase_img = None\n",
        "\n",
        "phase_img_fft_real = get_fft_rescaled(phase_img, gamma=0.01)\n",
        "phase_img_fft = get_fft_complex(phase_img)\n",
        "# Rounding due to numerical errors.\n",
        "horizontal_subplots_1x2(np.around(np.abs(phase_img), 5), phase_img_fft_real, \"Phase image and its spectrum\")\n",
        "\n",
        "# TODO: Set filter_radius\n",
        "filter_radius = 0.01\n",
        "\n",
        "lp_hp_filter = get_lp_hp_filter(phase_img_fft, filter_radius)\n",
        "for filter in lp_hp_filter:\n",
        "  phase_img_fft_filtered, phase_img_filtered_complex, phase_img_filtered = filter_fft(phase_img_fft, filter, gamma=0.1)\n",
        "\n",
        "  # TODO: Get the angle of the phase_img_filtered_complex\n",
        "  phase_img_filtered_angle = None\n",
        "\n",
        "  horizontal_subplots_1x3(phase_img_fft_filtered, phase_img_filtered_angle, phase_img_filtered, \"Filtered spectrum, angle of spectrum, and image\")\n"
      ],
      "metadata": {
        "id": "qxcRVNtQMv6X"
      },
      "execution_count": null,
      "outputs": []
    },
    {
      "cell_type": "markdown",
      "source": [
        "### c) Knife edge on phase image\n",
        "\n",
        "**Tasks**:\n",
        "- Get knife edge filters for the 4 main directions.\n",
        "\n",
        "**Programming Hints**:\n",
        "- The arrays `xv` and `yv` don't have to be combined.\n",
        "\n",
        "**Questions**:\n",
        "- What do you observe when applying the filter in different axis directions?\n",
        "- What do you observe when applying the filter to the positive side of an axis vs to the negative side?\n",
        "\n",
        "**Answers**:\n",
        "-"
      ],
      "metadata": {
        "id": "f_s-yFBU7BDi"
      }
    },
    {
      "cell_type": "code",
      "source": [
        "xv, yv = get_meshgrid(np.shape(phase_img)[1], np.shape(phase_img)[0])\n",
        "\n",
        "# TODO: Implement X-axis knife edge, removing the negative axis part\n",
        "x_neg_filter = None\n",
        "\n",
        "# TODO: Implement X-axis knife edge, removing the positive axis part\n",
        "x_pos_filter = None\n",
        "\n",
        "# TODO: Implement Y-axis knife edge, removing the negative axis part\n",
        "y_neg_filter = None\n",
        "\n",
        "# TODO: Implement Y-axis knife edge, removing the positive axis part\n",
        "y_pos_filter = None\n",
        "\n",
        "horizontal_subplots_1x2(x_neg_filter, x_pos_filter, \"Knife edge filter for X-axis\")\n",
        "horizontal_subplots_1x2(y_neg_filter, y_pos_filter, \"Knife edge filter for Y-axis\")\n",
        "\n",
        "knife_edge_filter = [x_neg_filter, x_pos_filter, y_neg_filter, y_pos_filter]\n",
        "for filter in knife_edge_filter:\n",
        "  display_filtered_fft_img, _, display_filtered_img = filter_fft(phase_img_fft, filter, gamma=0.1)\n",
        "  horizontal_subplots_1x2(display_filtered_fft_img, display_filtered_img, \"Filtered spectrum and image\")"
      ],
      "metadata": {
        "id": "ju01uQya8M6I"
      },
      "execution_count": null,
      "outputs": []
    },
    {
      "cell_type": "markdown",
      "source": [
        "### d) Phase shifting the DC part on phase image\n",
        "\n",
        "**Tasks**:\n",
        "- Apply a phase shift to only the DC part of the spectrum.\n",
        "\n",
        "**Programming Hints**:\n",
        "- The zero frequency lies at 0,0 when not fftshifted.\n",
        "- Phase: $cos(α) + i * sin(α) = exp(i * α)$\n",
        "- Useful functions for this exercise are: [`np.zeros`](https://numpy.org/doc/stable/reference/generated/numpy.zeros.html), [`np.shape`](https://numpy.org/doc/stable/reference/generated/numpy.shape.html), [`np.fft.fftshift`](https://numpy.org/doc/stable/reference/generated/numpy.fft.fftshift.html#), and [`np.exp`](https://numpy.org/doc/stable/reference/generated/numpy.exp.html).\n",
        "- Useful constants are: [`np.pi`](https://numpy.org/doc/stable/reference/constants.html#numpy.pi) as π and `1j` as imaginary unit\n",
        "\n",
        "**Questions**:\n",
        "- What happens for different phase shift values?\n",
        "\n",
        "**Answers**:\n",
        "-"
      ],
      "metadata": {
        "id": "0LfJtKREBVpU"
      }
    },
    {
      "cell_type": "code",
      "source": [
        "# TODO: Set phase shift\n",
        "phase_shift = None\n",
        "\n",
        "# TODO: Create mask with only zeros and set the 0 frequencies position to 1\n",
        "dc_mask = None\n",
        "\n",
        "# TODO: Add phase shift to the mask\n",
        "dc_filter = None\n",
        "\n",
        "display_filtered_fft_img, _, display_filtered_img = filter_fft(phase_img_fft, dc_filter, gamma=0.01)\n",
        "horizontal_subplots_1x2(display_filtered_fft_img, display_filtered_img, \"Filtered spectrum and image\")"
      ],
      "metadata": {
        "id": "kcOHDw72Bszy"
      },
      "execution_count": null,
      "outputs": []
    },
    {
      "cell_type": "markdown",
      "source": [
        "## Exercise 4: Holographic images\n",
        "---"
      ],
      "metadata": {
        "id": "czn82Av_0cmj"
      }
    },
    {
      "cell_type": "markdown",
      "source": [
        "### a) Working with holographic data\n",
        "\n",
        "**Tasks**:\n",
        "- Implement funciton `lambda_to_k` to convert inputs `lambda_obj` from object- to k-space.\n",
        "- Set image acquisition variables. It was acquired with the following parameters:\n",
        "  - Pixel-spacing on the camera: $Δx = Δy = 10 μm$\n",
        "  - Wavelength: $λ = 600 nm$\n",
        "  - Distanz of object to camera: $< 1 m$\n",
        "  - Plane referencewave\n",
        "- Transform image acquisition variables to k-space.\n",
        "- Find the part of the spectrum containing the image.\n",
        "\n",
        "**Programming Hints**:\n",
        "- $λ = \\frac{2π}{k}$\n",
        "- Useful function are: [`np.shape`](https://numpy.org/doc/stable/reference/generated/numpy.shape.html)\n",
        "- Useful constants are: [`np.pi`](https://numpy.org/doc/stable/reference/constants.html#numpy.pi) as π\n",
        "\n",
        "**Questions**:\n",
        "- Why do we need to convert our acquisition variables to k-space?\n",
        "- What are the bright areas in the spectrum ?\n",
        "\n",
        "**Answers**:\n",
        "- Because the propagation happens in fourier-space (k-space).\n",
        "- Around the DC part is the reference wave, while the bubbles are the first order."
      ],
      "metadata": {
        "id": "thlZSx_30dJV"
      }
    },
    {
      "cell_type": "code",
      "source": [
        "# The hologram to work with\n",
        "holo_img = iio.imread('hologram.png')\n",
        "\n",
        "holo_fft_img = get_fft_complex(holo_img)\n",
        "horizontal_subplots_1x2(holo_img, get_fft_rescaled(holo_img, gamma=0.1), \"Input image and its spectrum\")\n",
        "\n",
        "\n",
        "def lambda_to_k(lambda_obj):\n",
        "  # TODO: Lambda to k conversion\n",
        "  k = None\n",
        "\n",
        "  return k\n",
        "\n",
        "\n",
        "# TODO: Set pixel spacing\n",
        "dx = None\n",
        "dy = None\n",
        "dkx = None\n",
        "dky = None\n",
        "\n",
        "# TODO: Set wavelength\n",
        "wl = None\n",
        "k = None\n",
        "\n",
        "# TODO: Set maximum object distance\n",
        "max_dist = 1"
      ],
      "metadata": {
        "id": "LANC_bcG0de8"
      },
      "execution_count": null,
      "outputs": []
    },
    {
      "cell_type": "markdown",
      "source": [
        "### b) Finding the first orders\n",
        "\n",
        "**Tasks**:\n",
        "- Cut out the parts of the spectrum containing the first orders of the image\n",
        "\n",
        "**Programming Hints**:\n",
        "- To index an area of an array use `example_arr[start_row:end_row, start_col:end_col]`\n",
        "\n",
        "**Questions**:\n",
        "- Why do we need to cut out the first orders?\n",
        "\n",
        "**Answers**:\n",
        "-"
      ],
      "metadata": {
        "id": "z7lcWbfsa2H0"
      }
    },
    {
      "cell_type": "code",
      "source": [
        "# TODO: Cut both first order objects from the spectrum\n",
        "holo_first_order_1 = None\n",
        "holo_first_order_2 = None\n",
        "\n",
        "horizontal_subplots_1x2(np.abs(holo_first_order_1) ** 0.2, np.abs(holo_first_order_2) ** 0.2, \"First order objects\")"
      ],
      "metadata": {
        "id": "meDMK09Ga2Ue"
      },
      "execution_count": null,
      "outputs": []
    },
    {
      "cell_type": "markdown",
      "source": [
        "### c) Reconstructing holographic data\n",
        "\n",
        "**Tasks**:\n",
        "- Implement the function `get_prop_kernel` to get the filter kernel for propagation of the wavefield.\n",
        "\n",
        "**Programming Hints**:\n",
        "- Useful function are: [`np.shape`](https://numpy.org/doc/stable/reference/generated/numpy.shape.html), [`np.exp`](https://numpy.org/doc/stable/reference/generated/numpy.exp.html), and [`np.sqrt`](https://numpy.org/doc/stable/reference/generated/numpy.sqrt.html)\n",
        "- Useful constants are: [`np.pi`](https://numpy.org/doc/stable/reference/constants.html#numpy.pi) as π and `1j` as imaginary unit\n",
        "\n",
        "**Questions**:\n",
        "- What is the imaged object?\n",
        "- At which reconstruction distance is the image reconstructed well?\n",
        "- Which imaging geometry must've been used?\n",
        "- What is the difference between the two first orders?\n",
        "\n",
        "**Answers**:\n",
        "-"
      ],
      "metadata": {
        "id": "HbTO3QjQ_0f5"
      }
    },
    {
      "cell_type": "code",
      "source": [
        "def get_prop_kernel(fft_img, z, k, dkx, dky):\n",
        "  # TODO: get height and width of the fft_img\n",
        "  height, width = None, None\n",
        "\n",
        "  x = np.linspace(-1, 1, width)\n",
        "  y = np.linspace(-1, 1, height)\n",
        "\n",
        "  # TODO: Get kx and ky vectors based on the relative x and y vectors\n",
        "  kx = None\n",
        "  ky = None\n",
        "\n",
        "  kxv, kyv = np.meshgrid(kx, ky)\n",
        "\n",
        "  # TODO: Get propagation kernel\n",
        "  prop_kernel = None\n",
        "\n",
        "  return prop_kernel\n",
        "\n",
        "\n",
        "step = .25\n",
        "for z in np.arange(- max_dist, max_dist + step, step):\n",
        "  z = np.around(z, 2)\n",
        "  prop_kernel = get_prop_kernel(holo_first_order_1, z, k, dkx, dky)\n",
        "  display_filtered_fft_img, _, display_filtered_img_1 = filter_fft(holo_first_order_1, prop_kernel)\n",
        "  __, _, display_filtered_img_2 = filter_fft(holo_first_order_2, prop_kernel)\n",
        "  horizontal_subplots_1x3(display_filtered_fft_img, display_filtered_img_1, display_filtered_img_2, f\"Filtered spectrum and images of the different first orders at {z} m\")"
      ],
      "metadata": {
        "id": "iX9OqREFAyJB"
      },
      "execution_count": null,
      "outputs": []
    }
  ]
}